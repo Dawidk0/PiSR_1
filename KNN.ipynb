{
 "cells": [
  {
   "cell_type": "code",
   "execution_count": 7,
   "metadata": {
    "ExecuteTime": {
     "end_time": "2020-03-09T16:57:51.216376Z",
     "start_time": "2020-03-09T16:57:50.435911Z"
    }
   },
   "outputs": [],
   "source": [
    "import os\n",
    "import time\n",
    "import gc\n",
    "import argparse\n",
    "\n",
    "# data science imports\n",
    "import pandas as pd\n",
    "from scipy.sparse import csr_matrix\n",
    "from sklearn.neighbors import NearestNeighbors\n",
    "\n",
    "# utils import\n",
    "from fuzzywuzzy import fuzz"
   ]
  },
  {
   "cell_type": "code",
   "execution_count": 8,
   "metadata": {
    "ExecuteTime": {
     "end_time": "2020-03-09T16:57:51.262297Z",
     "start_time": "2020-03-09T16:57:51.241001Z"
    }
   },
   "outputs": [],
   "source": [
    "class KnnRecommender:\n",
    "    \"\"\"\n",
    "    This is an item-based collaborative filtering recommender with\n",
    "    KNN implmented by sklearn\n",
    "    \"\"\"\n",
    "    def __init__(self, path_movies, path_ratings):\n",
    "        \"\"\"\n",
    "        Recommender requires path to data: movies data and ratings data\n",
    "        Parameters\n",
    "        ----------\n",
    "        path_movies: str, movies data file path\n",
    "        path_ratings: str, ratings data file path\n",
    "        \"\"\"\n",
    "        self.path_movies = path_movies\n",
    "        self.path_ratings = path_ratings\n",
    "        self.movie_rating_thres = 0\n",
    "        self.user_rating_thres = 0\n",
    "        self.model = NearestNeighbors()\n",
    "\n",
    "    def set_filter_params(self, movie_rating_thres, user_rating_thres):\n",
    "        \"\"\"\n",
    "        set rating frequency threshold to filter less-known movies and\n",
    "        less active users\n",
    "        Parameters\n",
    "        ----------\n",
    "        movie_rating_thres: int, minimum number of ratings received by users\n",
    "        user_rating_thres: int, minimum number of ratings a user gives\n",
    "        \"\"\"\n",
    "        self.movie_rating_thres = movie_rating_thres\n",
    "        self.user_rating_thres = user_rating_thres\n",
    "\n",
    "    def set_model_params(self, n_neighbors, algorithm, metric, n_jobs=None):\n",
    "        \"\"\"\n",
    "        set model params for sklearn.neighbors.NearestNeighbors\n",
    "        Parameters\n",
    "        ----------\n",
    "        n_neighbors: int, optional (default = 5)\n",
    "        algorithm: {'auto', 'ball_tree', 'kd_tree', 'brute'}, optional\n",
    "        metric: string or callable, default 'minkowski', or one of\n",
    "            ['cityblock', 'cosine', 'euclidean', 'l1', 'l2', 'manhattan']\n",
    "        n_jobs: int or None, optional (default=None)\n",
    "        \"\"\"\n",
    "        if n_jobs and (n_jobs > 1 or n_jobs == -1):\n",
    "            os.environ['JOBLIB_TEMP_FOLDER'] = '/tmp'\n",
    "        self.model.set_params(**{\n",
    "            'n_neighbors': n_neighbors,\n",
    "            'algorithm': algorithm,\n",
    "            'metric': metric,\n",
    "            'n_jobs': n_jobs})\n",
    "\n",
    "    def _prep_data(self):\n",
    "        \"\"\"\n",
    "        prepare data for recommender\n",
    "        1. movie-user scipy sparse matrix\n",
    "        2. hashmap of movie to row index in movie-user scipy sparse matrix\n",
    "        \"\"\"\n",
    "        # read data\n",
    "        df_movies = pd.read_csv(\n",
    "            os.path.join(self.path_movies),\n",
    "            usecols=['movieId', 'title'],\n",
    "            dtype={'movieId': 'int32', 'title': 'str'})\n",
    "        df_ratings = pd.read_csv(\n",
    "            os.path.join(self.path_ratings),\n",
    "            usecols=['userId', 'movieId', 'rating'],\n",
    "            dtype={'userId': 'int32', 'movieId': 'int32', 'rating': 'float32'})\n",
    "        # filter data\n",
    "        df_movies_cnt = pd.DataFrame(\n",
    "            df_ratings.groupby('movieId').size(),\n",
    "            columns=['count'])\n",
    "        popular_movies = list(set(df_movies_cnt.query('count >= @self.movie_rating_thres').index))  # noqa\n",
    "        movies_filter = df_ratings.movieId.isin(popular_movies).values\n",
    "\n",
    "        df_users_cnt = pd.DataFrame(\n",
    "            df_ratings.groupby('userId').size(),\n",
    "            columns=['count'])\n",
    "        active_users = list(set(df_users_cnt.query('count >= @self.user_rating_thres').index))  # noqa\n",
    "        users_filter = df_ratings.userId.isin(active_users).values\n",
    "\n",
    "        df_ratings_filtered = df_ratings[movies_filter & users_filter]\n",
    "\n",
    "        # pivot and create movie-user matrix\n",
    "        movie_user_mat = df_ratings_filtered.pivot(\n",
    "            index='movieId', columns='userId', values='rating').fillna(0)\n",
    "        # create mapper from movie title to index\n",
    "        hashmap = {\n",
    "            movie: i for i, movie in\n",
    "            enumerate(list(df_movies.set_index('movieId').loc[movie_user_mat.index].title)) # noqa\n",
    "        }\n",
    "        # transform matrix to scipy sparse matrix\n",
    "        movie_user_mat_sparse = csr_matrix(movie_user_mat.values)\n",
    "\n",
    "        # clean up\n",
    "        del df_movies, df_movies_cnt, df_users_cnt\n",
    "        del df_ratings, df_ratings_filtered, movie_user_mat\n",
    "        gc.collect()\n",
    "        return movie_user_mat_sparse, hashmap\n",
    "\n",
    "    def _fuzzy_matching(self, hashmap, fav_movie):\n",
    "        \"\"\"\n",
    "        return the closest match via fuzzy ratio.\n",
    "        If no match found, return None\n",
    "        Parameters\n",
    "        ----------\n",
    "        hashmap: dict, map movie title name to index of the movie in data\n",
    "        fav_movie: str, name of user input movie\n",
    "        Return\n",
    "        ------\n",
    "        index of the closest match\n",
    "        \"\"\"\n",
    "        match_tuple = []\n",
    "        # get match\n",
    "        for title, idx in hashmap.items():\n",
    "            ratio = fuzz.ratio(title.lower(), fav_movie.lower())\n",
    "            if ratio >= 60:\n",
    "                match_tuple.append((title, idx, ratio))\n",
    "        # sort\n",
    "        match_tuple = sorted(match_tuple, key=lambda x: x[2])[::-1]\n",
    "        if not match_tuple:\n",
    "            print('Oops! No match is found')\n",
    "        else:\n",
    "            print('Found possible matches in our database: '\n",
    "                  '{0}\\n'.format([x[0] for x in match_tuple]))\n",
    "            return match_tuple[0][1]\n",
    "\n",
    "    def _inference(self, model, data, hashmap,\n",
    "                   fav_movie, n_recommendations):\n",
    "        \"\"\"\n",
    "        return top n similar movie recommendations based on user's input movie\n",
    "        Parameters\n",
    "        ----------\n",
    "        model: sklearn model, knn model\n",
    "        data: movie-user matrix\n",
    "        hashmap: dict, map movie title name to index of the movie in data\n",
    "        fav_movie: str, name of user input movie\n",
    "        n_recommendations: int, top n recommendations\n",
    "        Return\n",
    "        ------\n",
    "        list of top n similar movie recommendations\n",
    "        \"\"\"\n",
    "        # fit\n",
    "        model.fit(data)\n",
    "        # get input movie index\n",
    "        print('You have input movie:', fav_movie)\n",
    "        idx = self._fuzzy_matching(hashmap, fav_movie)\n",
    "        # inference\n",
    "        print('Recommendation system start to make inference')\n",
    "        print('......\\n')\n",
    "        t0 = time.time()\n",
    "        distances, indices = model.kneighbors(\n",
    "            data[idx],\n",
    "            n_neighbors=n_recommendations+1)\n",
    "        # get list of raw idx of recommendations\n",
    "        raw_recommends = \\\n",
    "            sorted(\n",
    "                list(\n",
    "                    zip(\n",
    "                        indices.squeeze().tolist(),\n",
    "                        distances.squeeze().tolist()\n",
    "                    )\n",
    "                ),\n",
    "                key=lambda x: x[1]\n",
    "            )[:0:-1]\n",
    "        print('It took my system {:.2f}s to make inference \\n\\\n",
    "              '.format(time.time() - t0))\n",
    "        # return recommendation (movieId, distance)\n",
    "        return raw_recommends\n",
    "\n",
    "    def make_recommendations(self, fav_movie, n_recommendations):\n",
    "        \"\"\"\n",
    "        make top n movie recommendations\n",
    "        Parameters\n",
    "        ----------\n",
    "        fav_movie: str, name of user input movie\n",
    "        n_recommendations: int, top n recommendations\n",
    "        \"\"\"\n",
    "        # get data\n",
    "        movie_user_mat_sparse, hashmap = self._prep_data()\n",
    "        # get recommendations\n",
    "        raw_recommends = self._inference(\n",
    "            self.model, movie_user_mat_sparse, hashmap,\n",
    "            fav_movie, n_recommendations)\n",
    "        # print results\n",
    "        reverse_hashmap = {v: k for k, v in hashmap.items()}\n",
    "        print('Recommendations for {}:'.format(fav_movie))\n",
    "        for i, (idx, dist) in enumerate(raw_recommends):\n",
    "            print('{0}: {1}, with distance '\n",
    "                  'of {2}'.format(i+1, reverse_hashmap[idx], dist))\n"
   ]
  },
  {
   "cell_type": "code",
   "execution_count": null,
   "metadata": {
    "ExecuteTime": {
     "end_time": "2020-03-09T16:51:49.819592Z",
     "start_time": "2020-03-09T16:51:49.810680Z"
    }
   },
   "outputs": [],
   "source": []
  },
  {
   "cell_type": "code",
   "execution_count": 9,
   "metadata": {
    "ExecuteTime": {
     "end_time": "2020-03-09T16:57:52.530656Z",
     "start_time": "2020-03-09T16:57:52.277279Z"
    }
   },
   "outputs": [
    {
     "name": "stdout",
     "output_type": "stream",
     "text": [
      "You have input movie: toy story\n",
      "Found possible matches in our database: ['Toy Story (1995)', 'Toy Story 3 (2010)', 'Toy Story 2 (1999)']\n",
      "\n",
      "Recommendation system start to make inference\n",
      "......\n",
      "\n",
      "It took my system 0.10s to make inference \n",
      "              \n",
      "Recommendations for toy story:\n",
      "1: Groundhog Day (1993), with distance of 45.11651611328125\n",
      "2: Apollo 13 (1995), with distance of 45.03054428100586\n",
      "3: Men in Black (a.k.a. MIB) (1997), with distance of 44.872039794921875\n",
      "4: Shrek (2001), with distance of 44.83023452758789\n",
      "5: Bug's Life, A (1998), with distance of 44.81350326538086\n",
      "6: Independence Day (a.k.a. ID4) (1996), with distance of 44.46908950805664\n",
      "7: Jurassic Park (1993), with distance of 44.40720748901367\n",
      "8: Mask, The (1994), with distance of 44.373416900634766\n",
      "9: Babe (1995), with distance of 44.11632537841797\n",
      "10: Toy Story 2 (1999), with distance of 41.400482177734375\n"
     ]
    }
   ],
   "source": [
    "movies_filename = \"movies.csv\"\n",
    "ratings_filename = \"ratings.csv\"\n",
    "data_path = \"dataset\"\n",
    "movie_name = \"toy story\"\n",
    "top_n = 10\n",
    "recommender = KnnRecommender(\n",
    "        os.path.join(data_path, movies_filename),\n",
    "        os.path.join(data_path, ratings_filename))\n",
    "    # set params\n",
    "recommender.set_filter_params(50, 50)\n",
    "recommender.set_model_params(20, 'brute', 'euclidean', -1)\n",
    "    # make recommendations\n",
    "recommender.make_recommendations(movie_name, top_n)"
   ]
  },
  {
   "cell_type": "code",
   "execution_count": null,
   "metadata": {
    "ExecuteTime": {
     "end_time": "2020-03-09T16:44:04.194015Z",
     "start_time": "2020-03-09T16:44:04.161879Z"
    }
   },
   "outputs": [],
   "source": []
  },
  {
   "cell_type": "code",
   "execution_count": null,
   "metadata": {
    "ExecuteTime": {
     "end_time": "2020-03-09T16:42:52.045301Z",
     "start_time": "2020-03-09T16:42:51.805916Z"
    }
   },
   "outputs": [],
   "source": []
  },
  {
   "cell_type": "code",
   "execution_count": null,
   "metadata": {
    "ExecuteTime": {
     "end_time": "2020-03-09T16:43:07.620718Z",
     "start_time": "2020-03-09T16:43:07.019127Z"
    }
   },
   "outputs": [],
   "source": []
  },
  {
   "cell_type": "code",
   "execution_count": null,
   "metadata": {
    "ExecuteTime": {
     "end_time": "2020-03-09T16:43:18.160937Z",
     "start_time": "2020-03-09T16:43:18.147699Z"
    }
   },
   "outputs": [],
   "source": []
  },
  {
   "cell_type": "code",
   "execution_count": null,
   "metadata": {
    "ExecuteTime": {
     "end_time": "2020-03-09T16:45:29.681589Z",
     "start_time": "2020-03-09T16:45:29.663996Z"
    }
   },
   "outputs": [],
   "source": []
  },
  {
   "cell_type": "code",
   "execution_count": null,
   "metadata": {},
   "outputs": [],
   "source": []
  }
 ],
 "metadata": {
  "kernelspec": {
   "display_name": "Python 3",
   "language": "python",
   "name": "python3"
  },
  "language_info": {
   "codemirror_mode": {
    "name": "ipython",
    "version": 3
   },
   "file_extension": ".py",
   "mimetype": "text/x-python",
   "name": "python",
   "nbconvert_exporter": "python",
   "pygments_lexer": "ipython3",
   "version": "3.6.9"
  },
  "varInspector": {
   "cols": {
    "lenName": 16,
    "lenType": 16,
    "lenVar": 40
   },
   "kernels_config": {
    "python": {
     "delete_cmd_postfix": "",
     "delete_cmd_prefix": "del ",
     "library": "var_list.py",
     "varRefreshCmd": "print(var_dic_list())"
    },
    "r": {
     "delete_cmd_postfix": ") ",
     "delete_cmd_prefix": "rm(",
     "library": "var_list.r",
     "varRefreshCmd": "cat(var_dic_list()) "
    }
   },
   "types_to_exclude": [
    "module",
    "function",
    "builtin_function_or_method",
    "instance",
    "_Feature"
   ],
   "window_display": false
  }
 },
 "nbformat": 4,
 "nbformat_minor": 2
}
