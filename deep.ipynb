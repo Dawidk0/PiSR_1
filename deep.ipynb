{
 "cells": [
  {
   "cell_type": "code",
   "execution_count": 52,
   "metadata": {},
   "outputs": [],
   "source": [
    "from utils.load_dataset import load_dataset\n",
    "from spotlight.interactions import Interactions\n",
    "from spotlight.cross_validation import random_train_test_split, user_based_train_test_split\n",
    "from spotlight.factorization.explicit import ExplicitFactorizationModel\n",
    "from spotlight.factorization.implicit import ImplicitFactorizationModel\n",
    "from spotlight.evaluation import rmse_score, mrr_score, precision_recall_score, sequence_mrr_score, sequence_precision_recall_score\n",
    "import numpy as np\n",
    "from spotlight.sequence.implicit import ImplicitSequenceModel"
   ]
  },
  {
   "cell_type": "code",
   "execution_count": 53,
   "metadata": {},
   "outputs": [],
   "source": [
    "USERS_NUMBER = 10_000\n",
    "RANDOM_STATE = 42"
   ]
  },
  {
   "cell_type": "code",
   "execution_count": 54,
   "metadata": {},
   "outputs": [
    {
     "data": {
      "text/plain": [
       "0.14446593433054805"
      ]
     },
     "execution_count": 54,
     "metadata": {},
     "output_type": "execute_result"
    }
   ],
   "source": [
    "ds_df = load_dataset()\n",
    "users = ds_df['ratings']['UserID'].drop_duplicates().sample(USERS_NUMBER, random_state=RANDOM_STATE)\n",
    "ds_df_filter = ds_df['ratings'][ds_df['ratings']['UserID'].isin(users)]\n",
    "len(ds_df_filter) / len(ds_df['ratings'])"
   ]
  },
  {
   "cell_type": "code",
   "execution_count": 55,
   "metadata": {},
   "outputs": [
    {
     "data": {
      "text/html": [
       "<div>\n",
       "<style scoped>\n",
       "    .dataframe tbody tr th:only-of-type {\n",
       "        vertical-align: middle;\n",
       "    }\n",
       "\n",
       "    .dataframe tbody tr th {\n",
       "        vertical-align: top;\n",
       "    }\n",
       "\n",
       "    .dataframe thead th {\n",
       "        text-align: right;\n",
       "    }\n",
       "</style>\n",
       "<table border=\"1\" class=\"dataframe\">\n",
       "  <thead>\n",
       "    <tr style=\"text-align: right;\">\n",
       "      <th></th>\n",
       "      <th>UserID</th>\n",
       "      <th>MovieID</th>\n",
       "      <th>Rating</th>\n",
       "      <th>Timestamp</th>\n",
       "    </tr>\n",
       "  </thead>\n",
       "  <tbody>\n",
       "    <tr>\n",
       "      <th>4435</th>\n",
       "      <td>40</td>\n",
       "      <td>34</td>\n",
       "      <td>5.0</td>\n",
       "      <td>945889233</td>\n",
       "    </tr>\n",
       "    <tr>\n",
       "      <th>4436</th>\n",
       "      <td>40</td>\n",
       "      <td>36</td>\n",
       "      <td>4.0</td>\n",
       "      <td>945889346</td>\n",
       "    </tr>\n",
       "    <tr>\n",
       "      <th>4437</th>\n",
       "      <td>40</td>\n",
       "      <td>50</td>\n",
       "      <td>5.0</td>\n",
       "      <td>945889117</td>\n",
       "    </tr>\n",
       "    <tr>\n",
       "      <th>4438</th>\n",
       "      <td>40</td>\n",
       "      <td>150</td>\n",
       "      <td>3.0</td>\n",
       "      <td>945889313</td>\n",
       "    </tr>\n",
       "    <tr>\n",
       "      <th>4439</th>\n",
       "      <td>40</td>\n",
       "      <td>174</td>\n",
       "      <td>3.0</td>\n",
       "      <td>945876902</td>\n",
       "    </tr>\n",
       "    <tr>\n",
       "      <th>...</th>\n",
       "      <td>...</td>\n",
       "      <td>...</td>\n",
       "      <td>...</td>\n",
       "      <td>...</td>\n",
       "    </tr>\n",
       "    <tr>\n",
       "      <th>9999946</th>\n",
       "      <td>71565</td>\n",
       "      <td>3789</td>\n",
       "      <td>4.0</td>\n",
       "      <td>974295682</td>\n",
       "    </tr>\n",
       "    <tr>\n",
       "      <th>9999947</th>\n",
       "      <td>71565</td>\n",
       "      <td>3808</td>\n",
       "      <td>4.0</td>\n",
       "      <td>974295467</td>\n",
       "    </tr>\n",
       "    <tr>\n",
       "      <th>9999948</th>\n",
       "      <td>71565</td>\n",
       "      <td>3811</td>\n",
       "      <td>4.0</td>\n",
       "      <td>974295234</td>\n",
       "    </tr>\n",
       "    <tr>\n",
       "      <th>9999949</th>\n",
       "      <td>71565</td>\n",
       "      <td>3812</td>\n",
       "      <td>4.0</td>\n",
       "      <td>974294786</td>\n",
       "    </tr>\n",
       "    <tr>\n",
       "      <th>9999950</th>\n",
       "      <td>71565</td>\n",
       "      <td>5060</td>\n",
       "      <td>4.0</td>\n",
       "      <td>974294692</td>\n",
       "    </tr>\n",
       "  </tbody>\n",
       "</table>\n",
       "<p>1444667 rows × 4 columns</p>\n",
       "</div>"
      ],
      "text/plain": [
       "         UserID  MovieID  Rating  Timestamp\n",
       "4435         40       34     5.0  945889233\n",
       "4436         40       36     4.0  945889346\n",
       "4437         40       50     5.0  945889117\n",
       "4438         40      150     3.0  945889313\n",
       "4439         40      174     3.0  945876902\n",
       "...         ...      ...     ...        ...\n",
       "9999946   71565     3789     4.0  974295682\n",
       "9999947   71565     3808     4.0  974295467\n",
       "9999948   71565     3811     4.0  974295234\n",
       "9999949   71565     3812     4.0  974294786\n",
       "9999950   71565     5060     4.0  974294692\n",
       "\n",
       "[1444667 rows x 4 columns]"
      ]
     },
     "execution_count": 55,
     "metadata": {},
     "output_type": "execute_result"
    }
   ],
   "source": [
    "ds_df_filter"
   ]
  },
  {
   "cell_type": "code",
   "execution_count": 56,
   "metadata": {},
   "outputs": [],
   "source": [
    "interactions = Interactions(\n",
    "    user_ids=ds_df_filter['UserID'].to_numpy(dtype=np.int32),\n",
    "    item_ids=ds_df_filter['MovieID'].to_numpy(dtype=np.int32),\n",
    "    ratings=ds_df_filter['Rating'].to_numpy(dtype=np.float32),\n",
    "    timestamps=ds_df_filter['Timestamp'].to_numpy(dtype=np.int32)\n",
    ")"
   ]
  },
  {
   "cell_type": "code",
   "execution_count": 57,
   "metadata": {},
   "outputs": [],
   "source": [
    "train, test = random_train_test_split(interactions, test_percentage=0.1)"
   ]
  },
  {
   "cell_type": "code",
   "execution_count": 58,
   "metadata": {},
   "outputs": [
    {
     "data": {
      "text/plain": [
       "(144467, 1300200)"
      ]
     },
     "execution_count": 58,
     "metadata": {},
     "output_type": "execute_result"
    }
   ],
   "source": [
    "len(test), len(train)"
   ]
  },
  {
   "cell_type": "markdown",
   "metadata": {},
   "source": [
    "## ExplicitFactorizationModel"
   ]
  },
  {
   "cell_type": "code",
   "execution_count": 71,
   "metadata": {},
   "outputs": [],
   "source": [
    "ef_model = ExplicitFactorizationModel(n_iter=10, use_cuda=True)"
   ]
  },
  {
   "cell_type": "code",
   "execution_count": 72,
   "metadata": {},
   "outputs": [
    {
     "name": "stdout",
     "output_type": "stream",
     "text": [
      "Epoch 0: loss 1.486768904857031\n",
      "Epoch 1: loss 0.9071326319404793\n",
      "Epoch 2: loss 0.8639572547232689\n",
      "Epoch 3: loss 0.8432541418953378\n",
      "Epoch 4: loss 0.8290304625144646\n",
      "Epoch 5: loss 0.8252826363675635\n",
      "Epoch 6: loss 0.8215568530838845\n",
      "Epoch 7: loss 0.8213962489670481\n",
      "Epoch 8: loss 0.8168330821119723\n",
      "Epoch 9: loss 0.8171691264569184\n"
     ]
    }
   ],
   "source": [
    "ef_model.fit(train, verbose=True)"
   ]
  },
  {
   "cell_type": "code",
   "execution_count": 73,
   "metadata": {},
   "outputs": [],
   "source": [
    "ef_rmse = rmse_score(ef_model, test)"
   ]
  },
  {
   "cell_type": "code",
   "execution_count": 74,
   "metadata": {},
   "outputs": [],
   "source": [
    "ef_mrr = 0.core(ef_model, test)"
   ]
  },
  {
   "cell_type": "code",
   "execution_count": 75,
   "metadata": {},
   "outputs": [],
   "source": [
    "ef_pr = precision_recall_score(ef_model, test, k=10)"
   ]
  },
  {
   "cell_type": "code",
   "execution_count": 76,
   "metadata": {},
   "outputs": [
    {
     "name": "stdout",
     "output_type": "stream",
     "text": [
      "0.97768897\n"
     ]
    }
   ],
   "source": [
    "print(ef_rmse)"
   ]
  },
  {
   "cell_type": "code",
   "execution_count": 77,
   "metadata": {},
   "outputs": [
    {
     "name": "stdout",
     "output_type": "stream",
     "text": [
      "[0.00041529 0.00040294 0.00021148 ... 0.0005501  0.00021661 0.00050254]\n"
     ]
    }
   ],
   "source": [
    "print(ef_mrr)"
   ]
  },
  {
   "cell_type": "code",
   "execution_count": 78,
   "metadata": {},
   "outputs": [
    {
     "name": "stdout",
     "output_type": "stream",
     "text": [
      "0.0003903954615485635 0.000410927553458754\n"
     ]
    }
   ],
   "source": [
    "print(np.mean(ef_mrr), np.std(ef_mrr))"
   ]
  },
  {
   "cell_type": "code",
   "execution_count": 79,
   "metadata": {},
   "outputs": [
    {
     "name": "stdout",
     "output_type": "stream",
     "text": [
      "0.00010209290454313425 0.003193566578788576\n"
     ]
    }
   ],
   "source": [
    "print(np.mean(ef_pr[0]), np.std(ef_pr[0]))"
   ]
  },
  {
   "cell_type": "code",
   "execution_count": 80,
   "metadata": {},
   "outputs": [
    {
     "name": "stdout",
     "output_type": "stream",
     "text": [
      "2.0753514862900123e-05 0.0008413224929900213\n"
     ]
    }
   ],
   "source": [
    "print(np.mean(ef_pr[1]), np.std(ef_pr[1]))"
   ]
  },
  {
   "cell_type": "markdown",
   "metadata": {},
   "source": [
    "## ImplicitFactorizationModel"
   ]
  },
  {
   "cell_type": "code",
   "execution_count": 81,
   "metadata": {},
   "outputs": [],
   "source": [
    "if_model = ImplicitFactorizationModel(n_iter=10, use_cuda=True)"
   ]
  },
  {
   "cell_type": "code",
   "execution_count": 82,
   "metadata": {},
   "outputs": [
    {
     "name": "stdout",
     "output_type": "stream",
     "text": [
      "Epoch 0: loss 0.1704829562580839\n",
      "Epoch 1: loss 0.10005596098490976\n",
      "Epoch 2: loss 0.09231385266066161\n",
      "Epoch 3: loss 0.0862474008469741\n",
      "Epoch 4: loss 0.08103210529997185\n",
      "Epoch 5: loss 0.07653650188744127\n",
      "Epoch 6: loss 0.07298732838965842\n",
      "Epoch 7: loss 0.06998453474379702\n",
      "Epoch 8: loss 0.0671835051092911\n",
      "Epoch 9: loss 0.06526695993138676\n"
     ]
    }
   ],
   "source": [
    "if_model.fit(train, verbose=True)"
   ]
  },
  {
   "cell_type": "code",
   "execution_count": 83,
   "metadata": {},
   "outputs": [],
   "source": [
    "if_rmse = rmse_score(if_model, test)"
   ]
  },
  {
   "cell_type": "code",
   "execution_count": 84,
   "metadata": {},
   "outputs": [],
   "source": [
    "if_mrr = mrr_score(if_model, test)"
   ]
  },
  {
   "cell_type": "code",
   "execution_count": 85,
   "metadata": {},
   "outputs": [],
   "source": [
    "if_pr = precision_recall_score(if_model, test, k=10)"
   ]
  },
  {
   "cell_type": "code",
   "execution_count": 86,
   "metadata": {},
   "outputs": [
    {
     "name": "stdout",
     "output_type": "stream",
     "text": [
      "37.853374\n"
     ]
    }
   ],
   "source": [
    "print(if_rmse)"
   ]
  },
  {
   "cell_type": "code",
   "execution_count": 87,
   "metadata": {},
   "outputs": [
    {
     "name": "stdout",
     "output_type": "stream",
     "text": [
      "[0.04133573 0.00281147 0.06450852 ... 0.00513433 0.17176614 0.00344302]\n"
     ]
    }
   ],
   "source": [
    "print(if_mrr)"
   ]
  },
  {
   "cell_type": "code",
   "execution_count": 88,
   "metadata": {},
   "outputs": [
    {
     "name": "stdout",
     "output_type": "stream",
     "text": [
      "0.013948668381919981 0.03315449451630753\n"
     ]
    }
   ],
   "source": [
    "print(np.mean(if_mrr), np.std(if_mrr))"
   ]
  },
  {
   "cell_type": "code",
   "execution_count": 89,
   "metadata": {},
   "outputs": [
    {
     "name": "stdout",
     "output_type": "stream",
     "text": [
      "0.02082695252679939 0.047361524527483545\n"
     ]
    }
   ],
   "source": [
    "print(np.mean(if_pr[0]), np.std(if_pr[0]))"
   ]
  },
  {
   "cell_type": "code",
   "execution_count": 90,
   "metadata": {},
   "outputs": [
    {
     "name": "stdout",
     "output_type": "stream",
     "text": [
      "0.024785313779040523 0.08008777106750527\n"
     ]
    }
   ],
   "source": [
    "print(np.mean(if_pr[1]), np.std(if_pr[1]))"
   ]
  },
  {
   "cell_type": "markdown",
   "metadata": {},
   "source": [
    "## Sequence models"
   ]
  },
  {
   "cell_type": "code",
   "execution_count": 91,
   "metadata": {},
   "outputs": [],
   "source": [
    "pre_seq_train, pre_seq_test = user_based_train_test_split(interactions, test_percentage=0.1)"
   ]
  },
  {
   "cell_type": "code",
   "execution_count": 92,
   "metadata": {},
   "outputs": [],
   "source": [
    "seq_train = pre_seq_train.to_sequence()\n",
    "seq_test = pre_seq_test.to_sequence()"
   ]
  },
  {
   "cell_type": "markdown",
   "metadata": {},
   "source": [
    "### Pooling"
   ]
  },
  {
   "cell_type": "code",
   "execution_count": 93,
   "metadata": {},
   "outputs": [
    {
     "name": "stdout",
     "output_type": "stream",
     "text": [
      "Epoch 0: loss 0.29253047211768507\n",
      "Epoch 1: loss 0.16279941417645138\n",
      "Epoch 2: loss 0.1460761603520397\n",
      "Epoch 3: loss 0.1341611057689888\n",
      "Epoch 4: loss 0.12490408521981294\n",
      "Epoch 5: loss 0.11780699059197204\n",
      "Epoch 6: loss 0.11120910405716063\n",
      "Epoch 7: loss 0.10532643219647299\n",
      "Epoch 8: loss 0.10136260065345709\n",
      "Epoch 9: loss 0.09756145653219278\n",
      "Epoch 10: loss 0.0944088946022235\n",
      "Epoch 11: loss 0.09112286757493654\n",
      "Epoch 12: loss 0.08885273401104905\n",
      "Epoch 13: loss 0.08599191792167638\n",
      "Epoch 14: loss 0.08375510940250334\n",
      "Epoch 15: loss 0.08161894685301944\n",
      "Epoch 16: loss 0.07942156349893079\n",
      "Epoch 17: loss 0.07737731471827729\n",
      "Epoch 18: loss 0.07620817096372748\n",
      "Epoch 19: loss 0.07400390063146901\n"
     ]
    }
   ],
   "source": [
    "seq_pool_model = ImplicitSequenceModel(n_iter=20, representation='pooling')\n",
    "seq_pool_model.fit(seq_train, verbose=True)"
   ]
  },
  {
   "cell_type": "code",
   "execution_count": 94,
   "metadata": {},
   "outputs": [],
   "source": [
    "seq_pool_mrr = sequence_mrr_score(seq_pool_model, seq_test)"
   ]
  },
  {
   "cell_type": "code",
   "execution_count": 95,
   "metadata": {},
   "outputs": [
    {
     "name": "stdout",
     "output_type": "stream",
     "text": [
      "0.012973217849541157 0.06601030551110476\n"
     ]
    }
   ],
   "source": [
    "print(np.mean(seq_pool_mrr), np.std(seq_pool_mrr))"
   ]
  },
  {
   "cell_type": "markdown",
   "metadata": {},
   "source": [
    "### LSTM"
   ]
  },
  {
   "cell_type": "code",
   "execution_count": 96,
   "metadata": {},
   "outputs": [
    {
     "name": "stdout",
     "output_type": "stream",
     "text": [
      "Epoch 0: loss 0.16993749386740728\n",
      "Epoch 1: loss 0.10828359423651442\n",
      "Epoch 2: loss 0.10666997267549481\n",
      "Epoch 3: loss 0.10611408567870524\n",
      "Epoch 4: loss 0.1066096091480083\n",
      "Epoch 5: loss 0.10602178578990948\n",
      "Epoch 6: loss 0.10585490445617034\n",
      "Epoch 7: loss 0.1059329775746331\n",
      "Epoch 8: loss 0.10599722992274697\n",
      "Epoch 9: loss 0.10599673175369832\n",
      "Epoch 10: loss 0.10590842204742106\n",
      "Epoch 11: loss 0.10581618700417275\n",
      "Epoch 12: loss 0.10586496170596024\n",
      "Epoch 13: loss 0.10564454499023042\n",
      "Epoch 14: loss 0.10525114229480123\n",
      "Epoch 15: loss 0.10533809191600452\n",
      "Epoch 16: loss 0.1060119821714811\n",
      "Epoch 17: loss 0.10573159816883816\n",
      "Epoch 18: loss 0.10574374046219166\n",
      "Epoch 19: loss 0.10629778081983214\n"
     ]
    }
   ],
   "source": [
    "seq_lstm_model = ImplicitSequenceModel(n_iter=20, representation='lstm')\n",
    "seq_lstm_model.fit(seq_train, verbose=True)"
   ]
  },
  {
   "cell_type": "code",
   "execution_count": 97,
   "metadata": {},
   "outputs": [],
   "source": [
    "seq_lstm_mrr = sequence_mrr_score(seq_lstm_model, seq_test)"
   ]
  },
  {
   "cell_type": "code",
   "execution_count": 98,
   "metadata": {},
   "outputs": [
    {
     "name": "stdout",
     "output_type": "stream",
     "text": [
      "0.00967996445874615 0.048870198892012925\n"
     ]
    }
   ],
   "source": [
    "print(np.mean(seq_lstm_mrr), np.std(seq_lstm_mrr))"
   ]
  },
  {
   "cell_type": "markdown",
   "metadata": {},
   "source": [
    "## CNN"
   ]
  },
  {
   "cell_type": "code",
   "execution_count": 99,
   "metadata": {},
   "outputs": [
    {
     "name": "stdout",
     "output_type": "stream",
     "text": [
      "Epoch 0: loss 0.16685462857777175\n",
      "Epoch 1: loss 0.10863340487384977\n",
      "Epoch 2: loss 0.10819457441625033\n",
      "Epoch 3: loss 0.10742456298817246\n",
      "Epoch 4: loss 0.10644947406003684\n",
      "Epoch 5: loss 0.1057167087925931\n",
      "Epoch 6: loss 0.10169929192320022\n",
      "Epoch 7: loss 0.09756805802989368\n",
      "Epoch 8: loss 0.09475171761481027\n",
      "Epoch 9: loss 0.09222896708735041\n",
      "Epoch 10: loss 0.09091078337041145\n",
      "Epoch 11: loss 0.08921988074713787\n",
      "Epoch 12: loss 0.08778431022915097\n",
      "Epoch 13: loss 0.0864443590602494\n",
      "Epoch 14: loss 0.0858871587499013\n",
      "Epoch 15: loss 0.08466778539772722\n",
      "Epoch 16: loss 0.08347535817512088\n",
      "Epoch 17: loss 0.08235619545776128\n",
      "Epoch 18: loss 0.08174779659894936\n",
      "Epoch 19: loss 0.0806023338845021\n"
     ]
    }
   ],
   "source": [
    "seq_cnn_model = ImplicitSequenceModel(n_iter=20, representation='cnn')\n",
    "seq_cnn_model.fit(seq_train, verbose=True)"
   ]
  },
  {
   "cell_type": "code",
   "execution_count": 100,
   "metadata": {},
   "outputs": [],
   "source": [
    "seq_cnn_mrr = sequence_mrr_score(seq_cnn_model, seq_test)"
   ]
  },
  {
   "cell_type": "code",
   "execution_count": 101,
   "metadata": {},
   "outputs": [
    {
     "name": "stdout",
     "output_type": "stream",
     "text": [
      "0.00819898759082587 0.05235291331049043\n"
     ]
    }
   ],
   "source": [
    "print(np.mean(seq_cnn_mrr), np.std(seq_cnn_mrr))"
   ]
  },
  {
   "cell_type": "code",
   "execution_count": null,
   "metadata": {},
   "outputs": [],
   "source": []
  }
 ],
 "metadata": {
  "kernelspec": {
   "display_name": "Python 3",
   "language": "python",
   "name": "python3"
  },
  "language_info": {
   "codemirror_mode": {
    "name": "ipython",
    "version": 3
   },
   "file_extension": ".py",
   "mimetype": "text/x-python",
   "name": "python",
   "nbconvert_exporter": "python",
   "pygments_lexer": "ipython3",
   "version": "3.6.10"
  }
 },
 "nbformat": 4,
 "nbformat_minor": 4
}
