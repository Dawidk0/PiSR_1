{
 "cells": [
  {
   "cell_type": "code",
   "execution_count": 25,
   "metadata": {
    "ExecuteTime": {
     "end_time": "2020-03-10T19:26:34.485171Z",
     "start_time": "2020-03-10T19:26:34.478178Z"
    }
   },
   "outputs": [],
   "source": [
    "import pandas as pd\n",
    "from utils.load_dataset import load_dataset\n",
    "from surprise import Dataset\n",
    "from surprise import Reader\n",
    "from pathlib import Path\n",
    "from surprise import SVD, NMF, KNNBasic\n",
    "from surprise import accuracy\n",
    "from surprise.model_selection import KFold, train_test_split\n",
    "from surprise.model_selection import cross_validate"
   ]
  },
  {
   "cell_type": "code",
   "execution_count": 9,
   "metadata": {},
   "outputs": [],
   "source": [
    "USERS_NUMBER = 10_000\n",
    "RANDOM_STATE = 42"
   ]
  },
  {
   "cell_type": "code",
   "execution_count": 10,
   "metadata": {},
   "outputs": [
    {
     "data": {
      "text/plain": [
       "0.14446593433054805"
      ]
     },
     "execution_count": 10,
     "metadata": {},
     "output_type": "execute_result"
    }
   ],
   "source": [
    "ds_df = load_dataset()\n",
    "users = ds_df['ratings']['UserID'].drop_duplicates().sample(USERS_NUMBER, random_state=RANDOM_STATE)\n",
    "ds_df_filter = ds_df['ratings'][ds_df['ratings']['UserID'].isin(users)]\n",
    "len(ds_df_filter) / len(ds_df['ratings'])"
   ]
  },
  {
   "cell_type": "code",
   "execution_count": 11,
   "metadata": {},
   "outputs": [
    {
     "data": {
      "text/html": [
       "<div>\n",
       "<style scoped>\n",
       "    .dataframe tbody tr th:only-of-type {\n",
       "        vertical-align: middle;\n",
       "    }\n",
       "\n",
       "    .dataframe tbody tr th {\n",
       "        vertical-align: top;\n",
       "    }\n",
       "\n",
       "    .dataframe thead th {\n",
       "        text-align: right;\n",
       "    }\n",
       "</style>\n",
       "<table border=\"1\" class=\"dataframe\">\n",
       "  <thead>\n",
       "    <tr style=\"text-align: right;\">\n",
       "      <th></th>\n",
       "      <th>UserID</th>\n",
       "      <th>MovieID</th>\n",
       "      <th>Rating</th>\n",
       "      <th>Timestamp</th>\n",
       "    </tr>\n",
       "  </thead>\n",
       "  <tbody>\n",
       "    <tr>\n",
       "      <th>4435</th>\n",
       "      <td>40</td>\n",
       "      <td>34</td>\n",
       "      <td>5.0</td>\n",
       "      <td>945889233</td>\n",
       "    </tr>\n",
       "    <tr>\n",
       "      <th>4436</th>\n",
       "      <td>40</td>\n",
       "      <td>36</td>\n",
       "      <td>4.0</td>\n",
       "      <td>945889346</td>\n",
       "    </tr>\n",
       "    <tr>\n",
       "      <th>4437</th>\n",
       "      <td>40</td>\n",
       "      <td>50</td>\n",
       "      <td>5.0</td>\n",
       "      <td>945889117</td>\n",
       "    </tr>\n",
       "    <tr>\n",
       "      <th>4438</th>\n",
       "      <td>40</td>\n",
       "      <td>150</td>\n",
       "      <td>3.0</td>\n",
       "      <td>945889313</td>\n",
       "    </tr>\n",
       "    <tr>\n",
       "      <th>4439</th>\n",
       "      <td>40</td>\n",
       "      <td>174</td>\n",
       "      <td>3.0</td>\n",
       "      <td>945876902</td>\n",
       "    </tr>\n",
       "    <tr>\n",
       "      <th>...</th>\n",
       "      <td>...</td>\n",
       "      <td>...</td>\n",
       "      <td>...</td>\n",
       "      <td>...</td>\n",
       "    </tr>\n",
       "    <tr>\n",
       "      <th>9999946</th>\n",
       "      <td>71565</td>\n",
       "      <td>3789</td>\n",
       "      <td>4.0</td>\n",
       "      <td>974295682</td>\n",
       "    </tr>\n",
       "    <tr>\n",
       "      <th>9999947</th>\n",
       "      <td>71565</td>\n",
       "      <td>3808</td>\n",
       "      <td>4.0</td>\n",
       "      <td>974295467</td>\n",
       "    </tr>\n",
       "    <tr>\n",
       "      <th>9999948</th>\n",
       "      <td>71565</td>\n",
       "      <td>3811</td>\n",
       "      <td>4.0</td>\n",
       "      <td>974295234</td>\n",
       "    </tr>\n",
       "    <tr>\n",
       "      <th>9999949</th>\n",
       "      <td>71565</td>\n",
       "      <td>3812</td>\n",
       "      <td>4.0</td>\n",
       "      <td>974294786</td>\n",
       "    </tr>\n",
       "    <tr>\n",
       "      <th>9999950</th>\n",
       "      <td>71565</td>\n",
       "      <td>5060</td>\n",
       "      <td>4.0</td>\n",
       "      <td>974294692</td>\n",
       "    </tr>\n",
       "  </tbody>\n",
       "</table>\n",
       "<p>1444667 rows × 4 columns</p>\n",
       "</div>"
      ],
      "text/plain": [
       "         UserID  MovieID  Rating  Timestamp\n",
       "4435         40       34     5.0  945889233\n",
       "4436         40       36     4.0  945889346\n",
       "4437         40       50     5.0  945889117\n",
       "4438         40      150     3.0  945889313\n",
       "4439         40      174     3.0  945876902\n",
       "...         ...      ...     ...        ...\n",
       "9999946   71565     3789     4.0  974295682\n",
       "9999947   71565     3808     4.0  974295467\n",
       "9999948   71565     3811     4.0  974295234\n",
       "9999949   71565     3812     4.0  974294786\n",
       "9999950   71565     5060     4.0  974294692\n",
       "\n",
       "[1444667 rows x 4 columns]"
      ]
     },
     "execution_count": 11,
     "metadata": {},
     "output_type": "execute_result"
    }
   ],
   "source": [
    "ds_df_filter"
   ]
  },
  {
   "cell_type": "code",
   "execution_count": 12,
   "metadata": {
    "ExecuteTime": {
     "end_time": "2020-03-10T19:16:28.894874Z",
     "start_time": "2020-03-10T19:16:28.889877Z"
    }
   },
   "outputs": [],
   "source": [
    "reader = Reader(rating_scale=(1, 5))"
   ]
  },
  {
   "cell_type": "code",
   "execution_count": 15,
   "metadata": {
    "ExecuteTime": {
     "end_time": "2020-03-10T19:16:29.313117Z",
     "start_time": "2020-03-10T19:16:29.133227Z"
    }
   },
   "outputs": [],
   "source": [
    "data = Dataset.load_from_df(ds_df_filter[['UserID', 'MovieID', 'Rating']], reader)"
   ]
  },
  {
   "cell_type": "markdown",
   "metadata": {},
   "source": [
    "## SVD"
   ]
  },
  {
   "cell_type": "code",
   "execution_count": 18,
   "metadata": {
    "ExecuteTime": {
     "end_time": "2020-03-10T19:25:39.533747Z",
     "start_time": "2020-03-10T19:25:15.235107Z"
    }
   },
   "outputs": [],
   "source": [
    "trainset, testset = train_test_split(data, test_size=0.01)"
   ]
  },
  {
   "cell_type": "code",
   "execution_count": 20,
   "metadata": {},
   "outputs": [
    {
     "data": {
      "text/plain": [
       "<surprise.prediction_algorithms.matrix_factorization.SVD at 0x7f8c309bec88>"
      ]
     },
     "execution_count": 20,
     "metadata": {},
     "output_type": "execute_result"
    }
   ],
   "source": [
    "algo = SVD()\n",
    "algo.fit(trainset)"
   ]
  },
  {
   "cell_type": "code",
   "execution_count": 21,
   "metadata": {
    "ExecuteTime": {
     "end_time": "2020-03-10T19:40:18.724254Z",
     "start_time": "2020-03-10T19:39:33.511252Z"
    }
   },
   "outputs": [
    {
     "name": "stdout",
     "output_type": "stream",
     "text": [
      "RMSE: 0.8111\n"
     ]
    },
    {
     "data": {
      "text/plain": [
       "0.8111153385081812"
      ]
     },
     "execution_count": 21,
     "metadata": {},
     "output_type": "execute_result"
    }
   ],
   "source": [
    "predictions = algo.test(testset)\n",
    "accuracy.rmse(predictions, verbose=True)"
   ]
  },
  {
   "cell_type": "markdown",
   "metadata": {},
   "source": [
    "## NMF"
   ]
  },
  {
   "cell_type": "code",
   "execution_count": 26,
   "metadata": {},
   "outputs": [
    {
     "data": {
      "text/plain": [
       "<surprise.prediction_algorithms.matrix_factorization.NMF at 0x7f8c307f5b70>"
      ]
     },
     "execution_count": 26,
     "metadata": {},
     "output_type": "execute_result"
    }
   ],
   "source": [
    "algo = NMF()\n",
    "algo.fit(trainse"
   ]
  },
  {
   "cell_type": "code",
   "execution_count": 27,
   "metadata": {},
   "outputs": [
    {
     "name": "stdout",
     "output_type": "stream",
     "text": [
      "RMSE: 0.8652\n"
     ]
    },
    {
     "data": {
      "text/plain": [
       "0.8651760581957743"
      ]
     },
     "execution_count": 27,
     "metadata": {},
     "output_type": "execute_result"
    }
   ],
   "source": [
    "predictions = algo.test(testset)\n",
    "accuracy.rmse(predictions, verbose=True)"
   ]
  },
  {
   "cell_type": "markdown",
   "metadata": {},
   "source": [
    "## KNNBasic"
   ]
  },
  {
   "cell_type": "code",
   "execution_count": 29,
   "metadata": {},
   "outputs": [
    {
     "name": "stdout",
     "output_type": "stream",
     "text": [
      "Computing the msd similarity matrix...\n",
      "Done computing similarity matrix.\n"
     ]
    },
    {
     "data": {
      "text/plain": [
       "<surprise.prediction_algorithms.knns.KNNBasic at 0x7f8c30834be0>"
      ]
     },
     "execution_count": 29,
     "metadata": {},
     "output_type": "execute_result"
    }
   ],
   "source": [
    "algo = KNNBasic()\n",
    "algo.fit(trainset)"
   ]
  },
  {
   "cell_type": "code",
   "execution_count": 30,
   "metadata": {},
   "outputs": [
    {
     "name": "stdout",
     "output_type": "stream",
     "text": [
      "RMSE: 0.8746\n"
     ]
    },
    {
     "data": {
      "text/plain": [
       "0.8745911359741265"
      ]
     },
     "execution_count": 30,
     "metadata": {},
     "output_type": "execute_result"
    }
   ],
   "source": [
    "predictions = algo.test(testset)\n",
    "accuracy.rmse(predictions, verbose=True)"
   ]
  },
  {
   "cell_type": "code",
   "execution_count": null,
   "metadata": {},
   "outputs": [],
   "source": []
  }
 ],
 "metadata": {
  "kernelspec": {
   "display_name": "Python 3",
   "language": "python",
   "name": "python3"
  },
  "language_info": {
   "codemirror_mode": {
    "name": "ipython",
    "version": 3
   },
   "file_extension": ".py",
   "mimetype": "text/x-python",
   "name": "python",
   "nbconvert_exporter": "python",
   "pygments_lexer": "ipython3",
   "version": "3.6.10"
  }
 },
 "nbformat": 4,
 "nbformat_minor": 4
}
